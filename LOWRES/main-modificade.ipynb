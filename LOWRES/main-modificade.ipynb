{
 "cells": [
  {
   "cell_type": "code",
   "execution_count": null,
   "metadata": {},
   "outputs": [],
   "source": [
    "# --- MODULOS PROPIOS\n",
    "\n",
    "from model_functions import time_discretization, len_trip, distance, estimate_time, cost_fuel\n",
    "from compatibility_functions import compatibility, comp_T\n",
    "#from data_paper import data_paper\n",
    "from graph_construction import create_nodes, create_archs\n",
    "from plot_functions import plot_city, plot_graph\n",
    "from generate_data import generate_data\n",
    "from initial_model import initial_model\n",
    "from lp_functions import from_V_to_TDS, calculate_cost, calculate_fuel\n",
    "from export_data import export_data\n",
    "import random"
   ]
  },
  {
   "cell_type": "code",
   "execution_count": null,
   "metadata": {},
   "outputs": [],
   "source": [
    "seed = 887335#random.randint(0, 1e6)#            # Semilla para generar una instancia aleatoria fija.\n",
    "\n",
    "K = 0.1                                 # Constante para transformar el consumo de combustible en tiempo recargando.\n",
    "\n",
    "num_travels = 100                        # Número de viajes.\n",
    "num_depots = 3                          # Número de depósitos.\n",
    "num_charge_stations = 5                 # Número de estaciones de carga.\n",
    "num_passenger_stations = 10             # Número de estaciones de pasajeros.\n",
    "\n",
    "w = 100.0                               # Capacidad de combustible de cada vehículo.\n",
    "\n",
    "speed_bus = 3.0                         # Velocidad del bus (km/h).\n",
    "fuel_per_distance = 2.0                 # Combustibple requerido por distancia ej. litros de gasolina/km.\n",
    "cost_per_distance = 1.0                 # Costo por distancia (sucres/km).\n",
    "\n",
    "h_s = 6.0                               # Hora de inicio de la jornada.\n",
    "h_f = 20.0                              # Hora de final de la jornada.\n",
    "\n",
    "time_divisions = 50                     # Número de divisiones temporales para discretización.\n",
    "\n",
    "v_max = 100                             # Capacidad máxima de un depósito dado (más adelante, la capacidad se genera aleatoriamente entre v_min y v_max).\n",
    "v_min = 10                              # capacidad mínima de un depósito dato\n",
    "\n",
    "\n",
    "size_square = 10                        # Lado de una ciudad cuadrada (km).\n",
    "\n",
    "\n",
    "# Se considera la capacidad limitada de las estaciones de carga.\n",
    "max_capacity_charge_station = 200         # Capacidad máxima de una estacion de carga por unidad de tiempo.\n",
    "                                        # (mas adelante, la capacidad se genera aleatoriamente entre min_capacity_charge_station y max_capacity_charge_station).\n",
    "\n",
    "min_capacity_charge_station = 30       # Capacidad mínima de una estación de carga en un tiempo dado  "
   ]
  },
  {
   "cell_type": "code",
   "execution_count": null,
   "metadata": {},
   "outputs": [],
   "source": [
    "# Llamando a las funciones en tuplas para mejorar la legibilidad.\n",
    "(time_window,\n",
    "time_intervals, \n",
    "time_dic, \n",
    "list_time,\n",
    "delta)              = time_discretization(h_s, h_f, time_divisions)\n"
   ]
  },
  {
   "cell_type": "code",
   "execution_count": null,
   "metadata": {},
   "outputs": [],
   "source": [
    "#Se genera datos para una instancia.\n",
    "(Travels, \n",
    " Depots, \n",
    " Stations_chrg, \n",
    " Stations_chrg_time, \n",
    " coord_passenger_stations, \n",
    " coord_depots, \n",
    " coord_charge_stations, \n",
    " T_passenger_stations, \n",
    " T_ab, \n",
    " D_v,\n",
    " rs_kt)                 = generate_data(seed, num_travels, num_depots, num_charge_stations, num_passenger_stations, size_square, v_max, v_min, time_window, max_capacity_charge_station, min_capacity_charge_station, list_time, speed_bus)\n",
    "\n",
    "\n",
    "\n",
    "\n",
    "# Se calcula el tiempo entre estaciones viajes, depósitos y estaciones de carga.\n",
    "t                       = estimate_time(Travels, Depots, Stations_chrg, coord_passenger_stations, T_passenger_stations, coord_depots, coord_charge_stations, speed_bus)\n",
    "\n",
    "(H_list,\n",
    " H_list_inv,\n",
    "h, \n",
    "h_inv,\n",
    "V,\n",
    "V_visual,\n",
    "Stations_chrg_time_dic,\n",
    "Stations_chrg_time_dic_inv)= create_nodes(Travels, Depots, Stations_chrg_time, num_travels, num_depots,num_charge_stations)\n",
    "\n",
    "\n",
    "#Se calcula las compatibilidades.\n",
    "(dic_comp, \n",
    " dic_comp_F,\n",
    " list_comp_FT)            = compatibility(Travels, Depots, Stations_chrg, Stations_chrg_time, T_passenger_stations, T_ab, t, time_dic)\n",
    "\n",
    "\n",
    "Hk = {k:[h[h_node] for h_node in H_list if h_node[0] in Travels+[k] ] for k in Depots}\n",
    "\n",
    "(A1, \n",
    " A2, \n",
    " A3, \n",
    " A4, \n",
    " A5, \n",
    " A6, \n",
    " A7,\n",
    " A, \n",
    " A_list,\n",
    " delta_mas,\n",
    " delta_menos,\n",
    " Ak,\n",
    " cost,\n",
    " fuel)                = create_archs(Travels, Depots, h, H_list, dic_comp, dic_comp_F, T_ab, time_dic, t, Hk, fuel_per_distance, T_passenger_stations, coord_passenger_stations, Stations_chrg, coord_depots, coord_charge_stations, cost_per_distance )\n",
    "#Se estiman los costos y el combustible.\n",
    "(cost_old,\n",
    "fuel_old)                   = cost_fuel(Travels, Depots, Stations_chrg, coord_passenger_stations, T_passenger_stations, T_ab, coord_depots, coord_charge_stations, h_inv, A, A1, A2, A3, A4, A5, A6, A7, cost_per_distance, fuel_per_distance)\n"
   ]
  },
  {
   "cell_type": "code",
   "execution_count": null,
   "metadata": {},
   "outputs": [],
   "source": [
    "keys_mas = cost.keys()\n",
    "keys_old = cost_old.keys()\n",
    "\n",
    "asd_count = 0\n",
    "for asd in keys_old:\n",
    "    if asd not in keys_mas:\n",
    "        asd_count += 1\n",
    "        print(asd)\n",
    "        \n",
    "print(asd_count)\n",
    "print(len(keys_old))\n",
    "print(len(keys_mas))"
   ]
  },
  {
   "cell_type": "code",
   "execution_count": null,
   "metadata": {},
   "outputs": [],
   "source": [
    "list(fuel.values())==list(fuel_old.values())"
   ]
  },
  {
   "cell_type": "code",
   "execution_count": null,
   "metadata": {},
   "outputs": [],
   "source": [
    "# Grafica la ciudad\n",
    "#plot_city(T_passenger_stations, T_ab, coord_passenger_stations, coord_depots, coord_charge_stations, size_square)\n",
    "'''\n",
    "print(f'Viaje\\tstation\\thoras')\n",
    "for i in Travels:\n",
    "    print(f'{i}\\t{T_passenger_stations[i]}\\t{T_ab[i]}')\n",
    "'''"
   ]
  },
  {
   "cell_type": "markdown",
   "metadata": {},
   "source": [
    "# Generación de Columnas\n",
    "\n",
    " Sea $\\Omega$ el conjunto de todos los posibles itinerarios para una instancia del problema. Para un itinerario en particular $p\\in\\Omega$ sea el valor $a_{ip}$ una contstante binaria que toma el valor de 1 si y solo si la ruta $p$ incluye el viaje $T_i$, y $b_p^k$ una constante binaria que toma el valor de uno si y solo si la ruta $p$ comineza y termina en $D_k$. \n",
    " \n",
    " \n",
    " \n",
    " \n",
    " \n",
    " Entonces, el problema se puede formular como:\n",
    "\n",
    "\n",
    "\\begin{align}\n",
    "  \\min \\quad & \\sum_{p\\in \\Omega} q_p x_p  \\\\\n",
    "  \\text{sujeto a}\\nonumber\\\\\n",
    "  \\quad & \\sum_{p\\in \\Omega}a_p^i x_p = 1,        &   i=1,\\cdots,n, \\\\\n",
    "        & \\sum_{p\\in \\Omega}b_p^j x_p \\leq r_j,   &   j=1,\\cdots,d,  \\\\\n",
    "        & \\sum_{p\\in \\Omega}c_p^{kt} x_p \\leq r_{kt},   &   k=1,\\cdots,s, t\\in \\mathscr{T} \\\\\n",
    "        & x_p\\in \\{0,1\\}, \\forall p \\in \\Omega. \\nonumber\n",
    "\\end{align}\n",
    "\n",
    "Nos referimos a este problema lineal como el problema máster. Cuando el problema se resuelve usando un subconjunto $\\Omega'\\subseteq\\Omega$ de todos los posibles itinerarios, nos referimos a este como el problema máster restringido. \n",
    "\n",
    "Empezamos resolviendo el dual de la relajación lineal para un conjunto pequeño de posibles itinerarios candidatos y luego usamos el dual de la solución para añadir nuevos itinerarios para añadir al problema máster restringido.\n",
    "\n",
    "\n",
    "Para el esquema de generación de columnas se considera que el origen y destino es $\\theta_j$, los vértices en el conjunto $\\hat{H}$ son nodos de recarga, la capacidad es $w$, y para un arco $(v_1,v_2)\\in E$, los valores de combustible son $f''(v_1,v_2) = f'(v_1,v_2)$ y los valores de costo son:\n",
    "\n",
    "\n",
    "\n",
    "$$\n",
    "c''(v_1,v_2)= \\begin{cases}\n",
    "c'(v_1,v_2)-\\pi_i   &\\text{para }v_1\\in T, v_2 \\in \\hat{V}\\\\\n",
    "c'(v_1,v_2)+\\xi_{kt}     &\\text{para }v_1\\in \\hat{H}, v_2 \\in \\hat{V}, v_1 = h(z_1,\\sigma_{k_1,t_1}) \\text{ si } k_1=k \\text{ y } t_1 =t\\\\\n",
    "c'(v_1,v_2)+\\rho_j  &\\text{para }v_1\\in D, v_2 \\in \\hat{V}.\n",
    "\\end{cases}\n",
    "$$\n",
    "\n",
    "\n",
    "\n"
   ]
  },
  {
   "cell_type": "code",
   "execution_count": null,
   "metadata": {},
   "outputs": [],
   "source": [
    "def which_node_is(node):\n",
    "    if node in Travels:\n",
    "        print(\"Travels\")\n",
    "    elif node in Depots:\n",
    "        print(\"Depots\")\n",
    "    elif node in Stations_chrg:\n",
    "        print(\"Stations_chrg\")\n",
    "    elif node in list(Stations_chrg_time_dic.keys()):\n",
    "        print(f\"Stations_chrg_time\\t{Stations_chrg_time_dic[node]}\")\n",
    "    elif node in H_list_inv:\n",
    "        print(f\"h\\t{h_inv[node]}\")\n"
   ]
  },
  {
   "cell_type": "code",
   "execution_count": null,
   "metadata": {},
   "outputs": [],
   "source": [
    "#export_data(time_dic, w, seed, V, T_ab, D_v,h_inv, rs_kt, cost, fuel, A1, A2, A3, A4, A5, A6, A7, single_file = True)"
   ]
  },
  {
   "cell_type": "code",
   "execution_count": null,
   "metadata": {},
   "outputs": [],
   "source": [
    "#from import_data import import_data\n",
    "\n",
    "#import_data()"
   ]
  },
  {
   "cell_type": "code",
   "execution_count": null,
   "metadata": {},
   "outputs": [],
   "source": []
  },
  {
   "cell_type": "code",
   "execution_count": null,
   "metadata": {},
   "outputs": [],
   "source": [
    "num_max_it          = 1900        #número de máximas iteraciones para el modelo (para no saturar gurobi ni el PC).\n",
    "\n",
    "(new_paths, \n",
    " dic_cost_path, \n",
    " x_op,\n",
    " z_op)              = initial_model(seed,list_comp_FT,K, Travels, Depots, Stations_chrg_time, Stations_chrg_time_dic, Stations_chrg_time_dic_inv, D_v, rs_kt, h, Stations_chrg, dic_comp, cost, list_time, w, fuel, h_inv, dic_comp_F, T_ab, num_max_it, delta, time_window, t, time_dic)\n",
    "\n",
    " \n",
    " # Se imprime la solución.\n",
    "for i in x_op:\n",
    "    if x_op[i] > 0:\n",
    "        path_TDS = from_V_to_TDS(new_paths[i], Travels, Depots, Stations_chrg, h_inv, visible=True)    \n",
    "        coste = calculate_cost(new_paths[i], cost)\n",
    "        print(path_TDS, coste)\n",
    " \n",
    "\n"
   ]
  },
  {
   "cell_type": "code",
   "execution_count": null,
   "metadata": {},
   "outputs": [],
   "source": [
    "\n",
    "\n"
   ]
  },
  {
   "cell_type": "code",
   "execution_count": null,
   "metadata": {},
   "outputs": [],
   "source": [
    "# Se visualiza el grafo.\n",
    "#plot_graph(V, V_visual, A_list, cost, fuel)"
   ]
  },
  {
   "cell_type": "markdown",
   "metadata": {},
   "source": [
    "# MODELO DE COMPROBACION\n",
    "---------------\n",
    "\n",
    "A partir de aqui empieza otro\n"
   ]
  },
  {
   "cell_type": "markdown",
   "metadata": {},
   "source": [
    "Se definen los conjuntos:\n",
    "\n",
    "$$\n",
    "H(s,t):=\\{ h(z,\\sigma_{st}) | z \\in  T \\cup D \\}\n",
    "$$\n",
    "\n",
    "$$\n",
    "H^T(z) := \\{h(z,\\sigma_{st}) \\in H \\}\n",
    "$$\n"
   ]
  },
  {
   "cell_type": "markdown",
   "metadata": {},
   "source": [
    "Se calculan los valores\n",
    "- $M_1 = 2 \\sum_{(i,j)\\in A}f_{ij},$\n",
    "- $M_2 = 2t_{max} + Kw + b_{max},$\n",
    "- $t_{max} := \\max\\{ t(i,j) | (i,j) \\in A \\},$\n",
    "- $b_{max} := \\{b_i | i \\in T \\},$\n"
   ]
  },
  {
   "cell_type": "code",
   "execution_count": null,
   "metadata": {},
   "outputs": [],
   "source": [
    "# M1\n",
    "fuel_accumulated = 0 \n",
    "for (i,j) in A:\n",
    "    fuel_accumulated += fuel[(i,j)]\n",
    "M1 = 2*fuel_accumulated\n",
    "\n",
    "# M2\n",
    "tmax = max(list(t.values()))\n",
    "bmax = max([ ab[1] for ab in list(T_ab.values())])\n",
    "M2 = 2*tmax + K*w + bmax"
   ]
  },
  {
   "cell_type": "code",
   "execution_count": null,
   "metadata": {},
   "outputs": [],
   "source": [
    "# para hacer un multigrafo, se debe dividir el conjunto de H porque no debe contener todos los depósitos para una copia k del grafo\n",
    "#Hk = {k:[h[h_node] for h_node in H_list if h_node[0] in Travels+[k] ] for k in Depots}\n",
    "\n",
    "#Ak_old = [(i, j, k) for (i,j) in A for k in Depots if i in Travels+[k]+Hk[k] and j in Travels+[k]+Hk[k]]\n",
    "\n",
    "#delta_mas_old= { (i,k) : [ j1 for (i1,j1,k1) in Ak if i1 == i and k == k1] for i in V for k in Depots}\n",
    "#delta_menos_old= { (j,k) : [ i1 for (i1,j1,k1) in Ak if j1 == j and k == k1 ] for j in V for k in Depots}\n"
   ]
  },
  {
   "cell_type": "code",
   "execution_count": null,
   "metadata": {},
   "outputs": [],
   "source": []
  },
  {
   "cell_type": "code",
   "execution_count": null,
   "metadata": {},
   "outputs": [],
   "source": [
    "list(fuel_old.values()) == list(fuel.values())"
   ]
  },
  {
   "cell_type": "code",
   "execution_count": null,
   "metadata": {},
   "outputs": [],
   "source": [
    "Depots"
   ]
  },
  {
   "cell_type": "code",
   "execution_count": null,
   "metadata": {},
   "outputs": [],
   "source": [
    "Hk_complete = {k:[h_arch for h_arch in H_list if h_arch[0] in Travels+[k] ] for k in Depots}"
   ]
  },
  {
   "cell_type": "code",
   "execution_count": null,
   "metadata": {},
   "outputs": [],
   "source": [
    "H_stk = { (s1,t1,k1): [h[key] for key in Hk_complete[k1] if key[1] == (s1,t1)] for (s1,t1) in Stations_chrg_time for k1 in Depots}\n",
    "H_T = { i:[h[index] for index in H_list if index[0] == i  ] for i in Travels}"
   ]
  },
  {
   "cell_type": "code",
   "execution_count": null,
   "metadata": {},
   "outputs": [],
   "source": [
    "import gurobipy as gp\n",
    "\n",
    "# Crear el objeto del modelo\n",
    "model2 = gp.Model()\n",
    "\n",
    "# Definir las variables de decisión\n",
    "x = model2.addVars(Ak, vtype=gp.GRB.BINARY, name='x')\n",
    "F = model2.addVars(V, lb = 0, ub = w, vtype=gp.GRB.CONTINUOUS, name='F')\n",
    "\n",
    "\n",
    "# Definir la función objetivo \n",
    "model2.setObjective(gp.quicksum(cost[(arco[0],arco[1])]*x[arco] for arco in Ak ), sense=gp.GRB.MINIMIZE)\n",
    "\n",
    "\n",
    "# Restricciones\n",
    "\n",
    "# Primera restricción: se deben satisfacer todos los viajes\n",
    "model2.addConstrs((gp.quicksum(x[(i,j,k)] for k in Depots for j in delta_mas[i,k] ) == 1 for i in Travels), name = '1ra_restr')\n",
    "\n",
    "# Segunda restricción: se respeta la capacidad del depósito\n",
    "model2.addConstrs((gp.quicksum(x[(k,j,k)] for j in delta_mas[k,k]) <= D_v[k] for k in Depots), name = '2da_restr')\n",
    "    \n",
    "# Tercera restricción: conservación de flujo\n",
    "model2.addConstrs((gp.quicksum(x[(j,i,k)] for j in delta_menos[i,k]) - gp.quicksum(x[(i,j,k)] for j in delta_mas[i,k]) == 0 for k in Depots for i in Travels+Hk[k]+[k]), name = '3ra_restr')\n",
    "\n",
    "# Cuarta restricción: capacidad de las estaciones de carga\n",
    "#model2.addConstrs((gp.quicksum(x[(h1, j, k)] for h1 in H_st[(s1, t1)] for k in Depots for j in delta_mas[h1,k] ) <= rs_kt[(s1, t1)] for s1 in Stations_chrg for t1 in list_time), name='4ta_restr')\n",
    "model2.addConstrs((gp.quicksum(x[(h1, j, k)] for k in Depots for h1 in H_stk[(s1, t1, k)] for j in delta_mas[h1,k]  ) <= rs_kt[(s1, t1)] for s1 in Stations_chrg for t1 in list_time), name='4ta_restr')\n",
    "\n",
    "# Quinta restricción: \n",
    "model2.addConstrs((F[j] >= F[i] + fuel[(i,j)] - (1-x[(i,j,k)])*M1 for (i,j,k) in Ak if i not in Depots + H_list_inv), name = '5ta_restr')\n",
    "\n",
    "# Sexta restricción: \n",
    "model2.addConstrs((F[j] >= fuel[(i,j)] - (1-x[(i,j,k)])*M1 for (i,j,k) in Ak if i in Depots + H_list_inv), name = '6ta_restr')\n",
    "\n",
    "\n",
    "# Séptima restricción \n",
    "for (h1, j) in A:\n",
    "    if h1 in H_list_inv and j in Travels :\n",
    "            model2.addConstr( time_window[0] + delta*(h_inv[h1][1][1] + 1) + K*F[h1] + t[(h_inv[h1][1][0], j)] \n",
    "                             <= T_ab[j][0] + (1 - gp.quicksum(x[(h1,j,k2)] for k2 in Depots if (h1,j,k2) in Ak ))*M2 , name=f'7ma_restr_{j}_{h1}' )\n",
    "\n",
    "\n",
    "model2.Params.OutputFlag = 0\n",
    "model2.Params.LogFile = \"salida_modelo_arcos.log\"\n",
    "model2.optimize()\n",
    "\n",
    "\n",
    "optimal_value = \"Null\"\n",
    "if model2.status == gp.GRB.OPTIMAL:\n",
    "    # Obtener el valor óptimo de la función objetivo\n",
    "    optimal_value = model2.objVal\n",
    "    print(\"-\"*100)\n",
    "    print('Valor óptimo de la función objetivo:', optimal_value)\n",
    "\n",
    "\n",
    "model2.write(\"modelo_verificacion.lp\")\n"
   ]
  },
  {
   "cell_type": "code",
   "execution_count": null,
   "metadata": {},
   "outputs": [],
   "source": [
    "print(H_list[0])\n",
    "#print(h[(1, (34, 0))])\n",
    "print(Depots)"
   ]
  },
  {
   "cell_type": "code",
   "execution_count": null,
   "metadata": {},
   "outputs": [],
   "source": [
    "#h[(1, (34, 0))] in Hk[31]"
   ]
  },
  {
   "cell_type": "code",
   "execution_count": null,
   "metadata": {},
   "outputs": [],
   "source": [
    "# Verificar si el modelo es infactible\n",
    "if model2.status == gp.GRB.INFEASIBLE:\n",
    "    print('El modelo es infactible.')\n",
    "\n",
    "    # Calcular el IIS\n",
    "    model2.computeIIS()\n",
    "\n",
    "    # Imprimir el IIS\n",
    "    print('El IIS es:')\n",
    "    for c in model2.getConstrs():\n",
    "        if c.IISConstr:\n",
    "            print('%s' % c.constrName)\n"
   ]
  },
  {
   "cell_type": "code",
   "execution_count": null,
   "metadata": {},
   "outputs": [],
   "source": [
    "archs_new_model = []\n",
    "\n",
    "if model2.status != gp.GRB.INFEASIBLE:\n",
    "    for i in Ak:\n",
    "        if x[i].x > 0:\n",
    "            archs_new_model.append([i[0],i[1],i[2]])\n",
    "            "
   ]
  },
  {
   "cell_type": "code",
   "execution_count": null,
   "metadata": {},
   "outputs": [],
   "source": [
    "\n",
    "dic_caminos = {}\n",
    "path_id = 0\n",
    "\n",
    "contador = 0\n",
    "\n",
    "if model2.status != gp.GRB.INFEASIBLE:\n",
    "    # código para juntar los arcos solución en sus respectivos caminos\n",
    "    for arch in archs_new_model:\n",
    "        if arch[0] in Depots:\n",
    "            initial_depot = arch[0]\n",
    "            dic_caminos[path_id] = [initial_depot]\n",
    "    \n",
    "            next_node = arch[1]\n",
    "            dic_caminos[path_id].append(next_node)\n",
    "\n",
    "            while next_node != initial_depot:\n",
    "                for arch1 in archs_new_model:\n",
    "                    if arch1[0] == next_node:\n",
    "                                                               \n",
    "                        next_node = arch1[1]\n",
    "                        dic_caminos[path_id].append(next_node) \n",
    "\n",
    "                        contador += 1\n",
    "                    if next_node == initial_depot:\n",
    "                        break\n",
    "\n",
    "            path_id += 1\n",
    "\n",
    "    "
   ]
  },
  {
   "cell_type": "code",
   "execution_count": null,
   "metadata": {},
   "outputs": [],
   "source": [
    "#plot_graph(V, V_visual, A_list, cost, fuel)"
   ]
  },
  {
   "cell_type": "code",
   "execution_count": null,
   "metadata": {},
   "outputs": [],
   "source": [
    "def viewer_time(camine,fuele):\n",
    "    index_fuel = 0\n",
    "    for index, node in enumerate(camine):\n",
    "        if node in H_list_inv:\n",
    "\n",
    "            print(f'------ Para el h-nodo {h_inv[node]} ------')\n",
    "\n",
    "            # la componente temporal del nodo h es: h_inv[node][1][1]\n",
    "            if camine[index - 1] in Travels:\n",
    "                print(\"\\t\\tANTES\")\n",
    "                print(f'et(T_{index - 1}) + t(T_{index - 1}, S_{h_inv[node][1][0]}) = {T_ab[index - 1][1]} + {t[index-1,h_inv[node][1][0]]} = {T_ab[index - 1][1] + t[index - 1,h_inv[node][1][0]]}')\n",
    "                print(f't = {h_inv[node][1][1]} corresponde a: \\t{time_dic[h_inv[node][1][1]]}')\n",
    "\n",
    "            if camine[index - 1] in Depots:\n",
    "                print(\"\\t\\tANTES\")\n",
    "                print(\"viene del depósito\")\n",
    "            \n",
    "            if camine[index + 1] in Depots:\n",
    "                print(\"\\t\\tDESPUÉS\")\n",
    "                print(\"llega al depósito\")\n",
    "\n",
    "            if camine[index + 1] in Travels:\n",
    "                print(\"\\t\\tDESPUÉS\")\n",
    "                print(f'et({h_inv[node][1]}) + K*F_({h_inv[node]}) + t(S_{h_inv[node][1][0]}, T_{index + 1}) = {time_dic[h_inv[node][1][1]][1]} + {K*fuele[index_fuel]} + {t[h_inv[node][1][0], index + 1]} = {time_dic[h_inv[node][1][1]][1] + K*fuele[index_fuel] + t[h_inv[node][1][0], index + 1]} ')\n",
    "                print(f'bt(T_{index + 1}) = {T_ab[index+1][1]}')\n",
    "                index_fuel += 1\n",
    "    print('---- FIN DE ESTE CAMINO ----')\n",
    "    print('----'*10)\n",
    "\n"
   ]
  },
  {
   "cell_type": "code",
   "execution_count": null,
   "metadata": {},
   "outputs": [],
   "source": [
    "# Se imprime la solución.\n",
    "\n",
    "print(\"\\t\\tmodelo generación de columnas\")\n",
    "\n",
    "if z_op < 10000:\n",
    "    print('cost\\tfuel\\t\\t\\tpath_TDS')\n",
    "    for i in x_op:\n",
    "        if x_op[i] > 0:\n",
    "            path_TDS = from_V_to_TDS(new_paths[i], Travels, Depots, Stations_chrg, h_inv, visible=True)  \n",
    "            coste = calculate_cost(new_paths[i], cost)\n",
    "            fuele = calculate_fuel(new_paths[i], fuel, H_list_inv)\n",
    "            print(f'{coste}\\t{fuele}\\t\\t\\t{path_TDS}')\n",
    "            #viewer_time(new_paths[i],fuele)\n",
    "\n",
    "else:\n",
    "    print(\"------------ NO VALIO ------------\")\n",
    "    for i in x_op:\n",
    "        if x_op[i] > 0:\n",
    "            path_TDS = from_V_to_TDS(new_paths[i], Travels, Depots, Stations_chrg, h_inv, visible=True)    \n",
    "            coste = calculate_cost(new_paths[i], cost)\n",
    "            print(path_TDS, coste)\n",
    "\n",
    "print(\"\\n\")\n",
    "print(\"\\t\\tmodelo comprobación\")\n",
    "print('cost\\tfuel\\t\\t\\tpath_TDS')\n",
    "\n",
    "\n",
    "for i in dic_caminos:\n",
    "    path_TDS = from_V_to_TDS(dic_caminos[i], Travels, Depots, Stations_chrg, h_inv, visible=True)    \n",
    "    coste = calculate_cost(dic_caminos[i], cost)\n",
    "    fuele = calculate_fuel(dic_caminos[i], fuel, H_list_inv)\n",
    "\n",
    "    print(f'{coste}\\t{fuele}\\t\\t\\t{path_TDS}')\n",
    "\n",
    "    #viewer_time(dic_caminos[i],fuele)\n",
    "\n",
    "print(\"\\n\")\n",
    "print(\"\\t\\tmodelo\\tmodelo comprobación\")\n",
    "print(f\"z_optimo\\t{z_op}\\t{optimal_value}\")\n",
    "\n",
    "print(f'\\n\\nla semilla es {seed}')"
   ]
  }
 ],
 "metadata": {
  "kernelspec": {
   "display_name": "Python 3 (ipykernel)",
   "language": "python",
   "name": "python3"
  },
  "language_info": {
   "codemirror_mode": {
    "name": "ipython",
    "version": 3
   },
   "file_extension": ".py",
   "mimetype": "text/x-python",
   "name": "python",
   "nbconvert_exporter": "python",
   "pygments_lexer": "ipython3",
   "version": "3.11.6"
  }
 },
 "nbformat": 4,
 "nbformat_minor": 4
}
